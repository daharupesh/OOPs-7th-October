{
  "nbformat": 4,
  "nbformat_minor": 0,
  "metadata": {
    "colab": {
      "provenance": []
    },
    "kernelspec": {
      "name": "python3",
      "display_name": "Python 3"
    },
    "language_info": {
      "name": "python"
    }
  },
  "cells": [
    {
      "cell_type": "markdown",
      "source": [
        "Problem 1: Bank Account Create a class representing a bank account with attributes like account number, account holder name, and balance. Implement methods to deposit and withdraw money from the account.\n",
        "\n",
        "Problem 2: Employee Management Create a class representing an employee with attributes like employee ID, name, and salary. Implement methods to calculate the yearly bonus and display employee details.\n",
        "\n",
        "Problem 3: Vehicle Rental Create a class representing a vehicle rental system. Implement methods to rent a vehicle, return a vehicle, and display available vehicles.\n",
        "\n",
        "Problem 4: Library Catalog Create classes representing a library and a book. Implement methods to add books to the library, borrow books, and display available books.\n",
        "\n",
        "Problem 5: Product Inventory Create classes representing a product and an inventory system. Implement methods to add products to the inventory, update product quantity, and display available products.\n",
        "\n",
        "Problem 6: Shape Calculation Create a class representing a shape with attributes like length, width, and height. Implement methods to calculate the area and perimeter of the shape.\n",
        "\n",
        "Problem 7: Student Management Create a class representing a student with attributes like student ID, name, and grades. Implement methods to calculate the average grade and display student details.\n",
        "\n",
        "Problem 8: Email Management Create a class representing an email with attributes like sender, recipient, and subject. Implement methods to send an email and display email details.\n",
        "\n",
        "Problem 9: Social Media Profile Create a class representing a social media profile with attributes like username and posts. Implement methods to add posts, display posts, and search for posts by keyword.\n",
        "\n",
        "Problem 10: ToDo List Create a class representing a ToDo list with attributes like tasks and due dates. Implement methods to add tasks, mark tasks as completed, and display pending tasks."
      ],
      "metadata": {
        "id": "OJ8bqWsHJS9K"
      }
    },
    {
      "cell_type": "markdown",
      "source": [
        "Problem 1:Bank Account Create a class representing a bank account with attributes like account number, account holder name, and balance. Implement methods to deposit and withdraw money from the account."
      ],
      "metadata": {
        "id": "m2qpZXEZJWml"
      }
    },
    {
      "cell_type": "code",
      "source": [
        "class Bank_account:\n",
        "\n",
        "    def __init__(self,account_number, account_holder_name, balance=0):\n",
        "        \"\"\"\n",
        "        this is the consturctor function of the bank about class and there has been initialize the class variables\n",
        "        \"\"\"\n",
        "        self.account_number = account_number\n",
        "        self.account_holder_name = account_holder_name\n",
        "        self.balance = balance\n",
        "\n",
        "\n",
        "    def deposite(self,amount):\n",
        "      if amount > 0:\n",
        "        self.balance +=amount\n",
        "        return f\"you have deposited of amount {amount } successfully. Your new balance is :{self.balance}\"\n",
        "      else:\n",
        "        return f\"Invalid deposit amount please enter positive value\"\n",
        "\n",
        "\n",
        "    def withdraw(self, amount):\n",
        "      if amount > 0:\n",
        "        if amount <= self.balance:\n",
        "          self.balance -=amount\n",
        "          return f\"you have Withdraw amount {amount} .Now your new balance is {self.balance}\"\n",
        "        else:\n",
        "          return \"Insufficient funds for withdrawal please maintain the balance in your account.\"\n",
        "      else:\n",
        "        return \"Invalid withdrawal amount. Please enter positive value\"\n",
        "\n",
        "\n"
      ],
      "metadata": {
        "id": "XMZOkQjhJV9t"
      },
      "execution_count": null,
      "outputs": []
    },
    {
      "cell_type": "code",
      "execution_count": null,
      "metadata": {
        "id": "3fkSO47wJJBa"
      },
      "outputs": [],
      "source": [
        "account = Bank_account(\"123456789\",\"Rupesh Daha\",1000)"
      ]
    },
    {
      "cell_type": "code",
      "source": [
        "account.deposite(500)"
      ],
      "metadata": {
        "colab": {
          "base_uri": "https://localhost:8080/",
          "height": 36
        },
        "id": "c0VMjeEfOazT",
        "outputId": "1a5a793f-31fb-4a27-c3b8-ef6200a41dc1"
      },
      "execution_count": null,
      "outputs": [
        {
          "output_type": "execute_result",
          "data": {
            "text/plain": [
              "'you have deposited of amount 500 successfully. Your new balance is :1500'"
            ],
            "application/vnd.google.colaboratory.intrinsic+json": {
              "type": "string"
            }
          },
          "metadata": {},
          "execution_count": 10
        }
      ]
    },
    {
      "cell_type": "code",
      "source": [
        "account.withdraw(300)"
      ],
      "metadata": {
        "colab": {
          "base_uri": "https://localhost:8080/",
          "height": 36
        },
        "id": "pxalE02qOnQK",
        "outputId": "b4e4fbe2-f842-43fd-f35e-c0b509b76be1"
      },
      "execution_count": null,
      "outputs": [
        {
          "output_type": "execute_result",
          "data": {
            "text/plain": [
              "'you have Withdraw amount 300 .Now your new balance is 1200'"
            ],
            "application/vnd.google.colaboratory.intrinsic+json": {
              "type": "string"
            }
          },
          "metadata": {},
          "execution_count": 11
        }
      ]
    },
    {
      "cell_type": "code",
      "source": [
        "account.account_number"
      ],
      "metadata": {
        "colab": {
          "base_uri": "https://localhost:8080/",
          "height": 36
        },
        "id": "OUQXfB8sOvm-",
        "outputId": "b0e67ab5-7917-4389-ba96-ded284779528"
      },
      "execution_count": null,
      "outputs": [
        {
          "output_type": "execute_result",
          "data": {
            "text/plain": [
              "'123456789'"
            ],
            "application/vnd.google.colaboratory.intrinsic+json": {
              "type": "string"
            }
          },
          "metadata": {},
          "execution_count": 13
        }
      ]
    },
    {
      "cell_type": "code",
      "source": [
        "account.account_holder_name"
      ],
      "metadata": {
        "colab": {
          "base_uri": "https://localhost:8080/",
          "height": 36
        },
        "id": "5gnZ4oSMO4k2",
        "outputId": "f3e16716-4d96-41c9-fde0-c2e68a29bddf"
      },
      "execution_count": null,
      "outputs": [
        {
          "output_type": "execute_result",
          "data": {
            "text/plain": [
              "'Rupesh Daha'"
            ],
            "application/vnd.google.colaboratory.intrinsic+json": {
              "type": "string"
            }
          },
          "metadata": {},
          "execution_count": 14
        }
      ]
    },
    {
      "cell_type": "markdown",
      "source": [
        "Problem 2: Employee Management Create a class representing an employee with attributes like employee ID, name, and salary. Implement methods to calculate the yearly bonus and display employee details."
      ],
      "metadata": {
        "id": "AzmLyoYSO85V"
      }
    },
    {
      "cell_type": "code",
      "source": [
        "class Employee:\n",
        "\n",
        "   def __init__(self,employee_id, employee_name, employee_salary):\n",
        "       self.employee_id = employee_id\n",
        "       self.employee_name = employee_name\n",
        "       self.employee_salary = employee_salary\n",
        "   def calculate_bonus(self,bonus_percentage):\n",
        "       if bonus_percentage>=0:\n",
        "          bonus_amount = (bonus_percentage/100)*self.employee_salary\n",
        "          return f\"the bonus amount is : {bonus_amount}\"\n",
        "       else:\n",
        "          return f\"Invalid bonus percentage!!\"\n",
        "   def display_details(self):\n",
        "       return f\"Employee ID: {self.employee_id}\\nName: {self.employee_name}\\nSalary: {self.employee_salary}\"\n"
      ],
      "metadata": {
        "id": "Z61NTo7AO2HL"
      },
      "execution_count": null,
      "outputs": []
    },
    {
      "cell_type": "code",
      "source": [
        "ram = Employee(12,\"Rakesh Yadav\", 34000)"
      ],
      "metadata": {
        "id": "4dzUhbNIoBzE"
      },
      "execution_count": null,
      "outputs": []
    },
    {
      "cell_type": "code",
      "source": [
        "ram.display_details()"
      ],
      "metadata": {
        "colab": {
          "base_uri": "https://localhost:8080/",
          "height": 36
        },
        "id": "syJ8Lo6woUQp",
        "outputId": "9a4af4b7-3d81-452f-cbd6-2217bec63252"
      },
      "execution_count": null,
      "outputs": [
        {
          "output_type": "execute_result",
          "data": {
            "text/plain": [
              "'Employee ID: 12\\nName: Rakesh Yadav\\nSalary: 34000'"
            ],
            "application/vnd.google.colaboratory.intrinsic+json": {
              "type": "string"
            }
          },
          "metadata": {},
          "execution_count": 20
        }
      ]
    },
    {
      "cell_type": "markdown",
      "source": [
        "Problem 3: Vehicle Rental Create a class representing a vehicle rental system. Implement methods to rent a vehicle, return a vehicle, and display available vehicles."
      ],
      "metadata": {
        "id": "e6kbuitIpPP8"
      }
    },
    {
      "cell_type": "code",
      "source": [
        "class Vehicle_Rental_System:\n",
        "\n",
        "  def __init__(self,list_of_vehicle):\n",
        "    self.list_of_vehicle = list_of_vehicle\n",
        "\n",
        "  def add_vehicle(self , vehicles):\n",
        "    self.list_of_vehicle.append(vehicles)\n",
        "    return f\"vehicles {vehicles} added\"\n",
        "\n",
        "  def rent_vehicle(self , vehicles):\n",
        "    if vehicles in self.list_of_vehicle:\n",
        "      self.list_of_vehicle.remove(vehicles)\n",
        "      return f\"you can rent vehicles {vehicles}\"\n",
        "    else:\n",
        "      return f\"you can not rent because vehicles is not available\"\n",
        "  def return_vehicle(self , vehicles):\n",
        "    self.list_of_vehicle.add(vehicles)\n",
        "    return f\"you have return vehicles {vehicles}\"\n",
        "\n",
        "  def display_available_vehicles(self):\n",
        "     return self.list_of_vehicle"
      ],
      "metadata": {
        "id": "ZXmbeNUUoadq"
      },
      "execution_count": null,
      "outputs": []
    },
    {
      "cell_type": "code",
      "source": [
        "vehicles = Vehicle_Rental_System([\"maruti\",\"Toyota Prius\",\"sonotata\",\"thar\"])"
      ],
      "metadata": {
        "id": "r-l9CntAtuDV"
      },
      "execution_count": null,
      "outputs": []
    },
    {
      "cell_type": "code",
      "source": [
        "vehicles.display_available_vehicles()"
      ],
      "metadata": {
        "colab": {
          "base_uri": "https://localhost:8080/"
        },
        "id": "KOCJxqV-uW1T",
        "outputId": "69688fc8-3127-46f5-ece1-936c4d37de73"
      },
      "execution_count": null,
      "outputs": [
        {
          "output_type": "execute_result",
          "data": {
            "text/plain": [
              "['maruti', 'Toyota Prius', 'sonotata', 'thar', 'Tata']"
            ]
          },
          "metadata": {},
          "execution_count": 30
        }
      ]
    },
    {
      "cell_type": "code",
      "source": [
        "vehicles.add_vehicle(\"Tata\")"
      ],
      "metadata": {
        "colab": {
          "base_uri": "https://localhost:8080/",
          "height": 36
        },
        "id": "F7eV3Bg8ubKm",
        "outputId": "baae8b2c-ac8e-4601-87cc-6c5647a788ab"
      },
      "execution_count": null,
      "outputs": [
        {
          "output_type": "execute_result",
          "data": {
            "text/plain": [
              "'vehicles Tata added'"
            ],
            "application/vnd.google.colaboratory.intrinsic+json": {
              "type": "string"
            }
          },
          "metadata": {},
          "execution_count": 29
        }
      ]
    },
    {
      "cell_type": "code",
      "source": [
        "vehicles.rent_vehicle(\"thar\")"
      ],
      "metadata": {
        "colab": {
          "base_uri": "https://localhost:8080/",
          "height": 36
        },
        "id": "jMUXvxNPuhIA",
        "outputId": "ad9227a3-bcae-4204-9a3a-e088ed4c150a"
      },
      "execution_count": null,
      "outputs": [
        {
          "output_type": "execute_result",
          "data": {
            "text/plain": [
              "'you can rent vehicles thar'"
            ],
            "application/vnd.google.colaboratory.intrinsic+json": {
              "type": "string"
            }
          },
          "metadata": {},
          "execution_count": 32
        }
      ]
    },
    {
      "cell_type": "code",
      "source": [
        "vehicles.display_available_vehicles()"
      ],
      "metadata": {
        "colab": {
          "base_uri": "https://localhost:8080/"
        },
        "id": "GVIykiMnuyao",
        "outputId": "442b5fa2-7a09-4f7d-8c2a-c9e0f356b0ef"
      },
      "execution_count": null,
      "outputs": [
        {
          "output_type": "execute_result",
          "data": {
            "text/plain": [
              "['maruti', 'Toyota Prius', 'sonotata', 'Tata']"
            ]
          },
          "metadata": {},
          "execution_count": 33
        }
      ]
    },
    {
      "cell_type": "code",
      "source": [],
      "metadata": {
        "id": "WRCVRDNqu6z-"
      },
      "execution_count": null,
      "outputs": []
    },
    {
      "cell_type": "markdown",
      "source": [
        "Problem 4:Library Catalog Create classes representing a library and a book. Implement methods to add books to the library, borrow books, and display available books."
      ],
      "metadata": {
        "id": "zz8BWoqSu-bS"
      }
    },
    {
      "cell_type": "code",
      "source": [
        "class Library:\n",
        "    def __init__(self):\n",
        "        self.books = []\n",
        "\n",
        "    def add_book(self, book):\n",
        "        self.books.append(book)\n",
        "        return f\"Book '{book.title}' added to the library.\"\n",
        "\n",
        "    def borrow_book(self, book_title):\n",
        "        for book in self.books:\n",
        "            if book.title == book_title and not book.borrowed:\n",
        "                book.borrowed = True\n",
        "                return f\"Book '{book_title}' borrowed successfully.\"\n",
        "        return f\"Book '{book_title}' not available for borrowing.\"\n",
        "\n",
        "    def display_available_books(self):\n",
        "        if not self.books:\n",
        "            return \"No books available in the library.\"\n",
        "\n",
        "        available_books_info = \"\\n\".join([f\"Title: {book.title}, Author: {book.author}, Borrowed: {'Yes' if book.borrowed else 'No'}\" for book in self.books])\n",
        "        return f\"Available Books:\\n{available_books_info}\"\n",
        "\n",
        "class Book:\n",
        "    def __init__(self, title, author):\n",
        "        self.title = title\n",
        "        self.author = author\n",
        "        self.borrowed = False\n",
        "\n",
        "\n"
      ],
      "metadata": {
        "id": "H4eWQzXJvD5j"
      },
      "execution_count": null,
      "outputs": []
    },
    {
      "cell_type": "code",
      "source": [
        "library = Library()\n",
        "book1 = Book(\"The Great Gatsby\", \"F. Scott Fitzgerald\")\n",
        "print(library.add_book(book1))\n",
        "print(library.display_available_books())\n",
        "print(library.borrow_book(\"The Great Gatsby\"))\n",
        "print(library.display_available_books())"
      ],
      "metadata": {
        "colab": {
          "base_uri": "https://localhost:8080/"
        },
        "id": "ynM2v9_9whAv",
        "outputId": "412fd28e-e9a5-4907-8287-f40afc3402d1"
      },
      "execution_count": null,
      "outputs": [
        {
          "output_type": "stream",
          "name": "stdout",
          "text": [
            "[<__main__.Book object at 0x7e2ea12f5b40>]\n",
            "Book 'The Great Gatsby' added to the library.\n",
            "Available Books:\n",
            "Title: The Great Gatsby, Author: F. Scott Fitzgerald, Borrowed: No\n",
            "Book 'The Great Gatsby' borrowed successfully.\n",
            "Available Books:\n",
            "Title: The Great Gatsby, Author: F. Scott Fitzgerald, Borrowed: Yes\n"
          ]
        }
      ]
    },
    {
      "cell_type": "code",
      "source": [],
      "metadata": {
        "colab": {
          "base_uri": "https://localhost:8080/",
          "height": 53
        },
        "id": "C9NURLm1xqII",
        "outputId": "5f9bbda2-af80-4eb7-8f90-e238b9c26af0"
      },
      "execution_count": null,
      "outputs": [
        {
          "output_type": "stream",
          "name": "stdout",
          "text": [
            "[<__main__.Book object at 0x7e2ea12f4610>]\n"
          ]
        },
        {
          "output_type": "execute_result",
          "data": {
            "text/plain": [
              "\"Book 'The Great Gatsby' added to the library.\""
            ],
            "application/vnd.google.colaboratory.intrinsic+json": {
              "type": "string"
            }
          },
          "metadata": {},
          "execution_count": 44
        }
      ]
    },
    {
      "cell_type": "code",
      "source": [
        "book2 = Book(\"To Kill a Mockingbird\", \"Harper Lee\")\n",
        "print(library.add_book(book2))\n",
        "print(library.display_available_books())\n",
        "print(library.borrow_book(\"To Kill a Mockingbird\"))\n",
        "print(library.display_available_books())"
      ],
      "metadata": {
        "colab": {
          "base_uri": "https://localhost:8080/"
        },
        "id": "3ym6kWgex2cm",
        "outputId": "6d328d7c-d266-4d95-c7cc-9fb7e07447ce"
      },
      "execution_count": null,
      "outputs": [
        {
          "output_type": "stream",
          "name": "stdout",
          "text": [
            "[<__main__.Book object at 0x7e2ea12f5b40>, <__main__.Book object at 0x7e2ea12f6d10>]\n",
            "Book 'To Kill a Mockingbird' added to the library.\n",
            "Available Books:\n",
            "Title: The Great Gatsby, Author: F. Scott Fitzgerald, Borrowed: Yes\n",
            "Title: To Kill a Mockingbird, Author: Harper Lee, Borrowed: No\n",
            "Book 'To Kill a Mockingbird' borrowed successfully.\n",
            "Available Books:\n",
            "Title: The Great Gatsby, Author: F. Scott Fitzgerald, Borrowed: Yes\n",
            "Title: To Kill a Mockingbird, Author: Harper Lee, Borrowed: Yes\n"
          ]
        }
      ]
    },
    {
      "cell_type": "markdown",
      "source": [
        "problem 5: Product Inventory Create classes representing a product and an inventory system. Implement methods to add products to the inventory, update product quantity, and display available products."
      ],
      "metadata": {
        "id": "ZvvXBUKwzlYT"
      }
    },
    {
      "cell_type": "code",
      "source": [
        "class Product:\n",
        "    def __init__(self, product_id, name, price, quantity):\n",
        "        self.product_id = product_id\n",
        "        self.name = name\n",
        "        self.price = price\n",
        "        self.quantity = quantity\n",
        "\n",
        "class InventorySystem:\n",
        "    def __init__(self):\n",
        "        self.products = []\n",
        "\n",
        "    def add_product(self, product):\n",
        "        self.products.append(product)\n",
        "        return f\"Product '{product.name}' added to the inventory.\"\n",
        "\n",
        "    def update_quantity(self, product_id, new_quantity):\n",
        "        for product in self.products:\n",
        "            if product.product_id == product_id:\n",
        "                product.quantity = new_quantity\n",
        "                return f\"Quantity updated for product '{product.name}'. New quantity: {new_quantity}\"\n",
        "        return f\"Product with ID {product_id} not found in the inventory.\"\n",
        "\n",
        "    def display_available_products(self):\n",
        "        if not self.products:\n",
        "            return \"No products available in the inventory.\"\n",
        "\n",
        "        available_products_info = \"\\n\".join([f\"ID: {product.product_id}, Name: {product.name}, Price: {product.price}, Quantity: {product.quantity}\" for product in self.products])\n",
        "        return f\"Available Products:\\n{available_products_info}\"\n",
        "\n",
        "\n",
        "\n"
      ],
      "metadata": {
        "id": "tmFfSoS6zsE0"
      },
      "execution_count": null,
      "outputs": []
    },
    {
      "cell_type": "code",
      "source": [
        "inventory = InventorySystem()\n",
        "product1 = Product(\"P001\", \"Laptop\", 999.99, 10)\n",
        "\n",
        "print(inventory.add_product(product1))\n",
        "print(inventory.display_available_products())\n",
        "print(inventory.update_quantity(\"P001\", 5))\n",
        "print(inventory.display_available_products())"
      ],
      "metadata": {
        "colab": {
          "base_uri": "https://localhost:8080/"
        },
        "id": "IBMAoWV8z6GE",
        "outputId": "13794550-fe31-42dc-fc1f-1a791a8e08e9"
      },
      "execution_count": null,
      "outputs": [
        {
          "output_type": "stream",
          "name": "stdout",
          "text": [
            "Product 'Laptop' added to the inventory.\n",
            "Available Products:\n",
            "ID: P001, Name: Laptop, Price: 999.99, Quantity: 10\n",
            "Quantity updated for product 'Laptop'. New quantity: 5\n",
            "Available Products:\n",
            "ID: P001, Name: Laptop, Price: 999.99, Quantity: 5\n"
          ]
        }
      ]
    },
    {
      "cell_type": "code",
      "source": [
        "product2 = Product(\"P002\", \"Smartphone\", 499.99, 20)\n",
        "inventory.add_product(product2)"
      ],
      "metadata": {
        "colab": {
          "base_uri": "https://localhost:8080/",
          "height": 36
        },
        "id": "ffcqb5R_0C8x",
        "outputId": "6a67bafa-0a8e-48e2-b91a-fd7bc3f7bd48"
      },
      "execution_count": null,
      "outputs": [
        {
          "output_type": "execute_result",
          "data": {
            "text/plain": [
              "\"Product 'Smartphone' added to the inventory.\""
            ],
            "application/vnd.google.colaboratory.intrinsic+json": {
              "type": "string"
            }
          },
          "metadata": {},
          "execution_count": 53
        }
      ]
    },
    {
      "cell_type": "markdown",
      "source": [
        "problem 6: Shape Calculation Create a class representing a shape with attributes like length, width, and height. Implement methods to calculate the area and perimeter of the shape."
      ],
      "metadata": {
        "id": "ANMMN1KG0OqL"
      }
    },
    {
      "cell_type": "code",
      "source": [
        "class Shape:\n",
        "    def __init__(self, length=0, width=0, height=0):\n",
        "        self.length = length\n",
        "        self.width = width\n",
        "        self.height = height\n",
        "\n",
        "class Rectangle(Shape):\n",
        "    def calculate_area(self):\n",
        "        return self.length * self.width\n",
        "\n",
        "    def calculate_perimeter(self):\n",
        "        return 2 * (self.length + self.width)\n",
        "\n",
        "class Triangle(Shape):\n",
        "    def calculate_area(self):\n",
        "        return 0.5 * self.base * self.height\n",
        "\n",
        "    def calculate_perimeter(self):\n",
        "        return self.side1 + self.side2 + self.side3\n",
        "\n",
        "\n",
        "\n"
      ],
      "metadata": {
        "id": "MSVRLPvt0hAP"
      },
      "execution_count": null,
      "outputs": []
    },
    {
      "cell_type": "code",
      "source": [
        "rectangle = Rectangle(length=5, width=3)\n",
        "triangle = Triangle()\n",
        "triangle.base = 4\n",
        "triangle.height = 6\n",
        "triangle.side1 = 3\n",
        "triangle.side2 = 4\n",
        "triangle.side3 = 5\n",
        "\n",
        "print(f\"Rectangle Area: {rectangle.calculate_area()}\")\n",
        "print(f\"Rectangle Perimeter: {rectangle.calculate_perimeter()}\")\n",
        "print(f\"Triangle Area: {triangle.calculate_area()}\")\n",
        "print(f\"Triangle Perimeter: {triangle.calculate_perimeter()}\")\n"
      ],
      "metadata": {
        "colab": {
          "base_uri": "https://localhost:8080/"
        },
        "id": "ckxIFuOz20ew",
        "outputId": "b9ee13a9-7faf-4cd9-a781-b75244eb5d5b"
      },
      "execution_count": null,
      "outputs": [
        {
          "output_type": "stream",
          "name": "stdout",
          "text": [
            "Rectangle Area: 15\n",
            "Rectangle Perimeter: 16\n",
            "Triangle Area: 12.0\n",
            "Triangle Perimeter: 12\n"
          ]
        }
      ]
    },
    {
      "cell_type": "markdown",
      "source": [
        "problem 7: Student Management Create a class representing a student with attributes like student ID, name, and grades. Implement methods to calculate the average grade and display student details."
      ],
      "metadata": {
        "id": "VhPZSy-_2kp7"
      }
    },
    {
      "cell_type": "code",
      "source": [
        "class Student:\n",
        "    def __init__(self, student_id, name, grades=[]):\n",
        "        self.student_id = student_id\n",
        "        self.name = name\n",
        "        self.grades = grades\n",
        "\n",
        "    def calculate_average_grade(self):\n",
        "        if not self.grades:\n",
        "            return \"No grades available for calculation.\"\n",
        "\n",
        "        average_grade = sum(self.grades) / len(self.grades)\n",
        "        return f\"Average grade: {average_grade:.2f}\"\n",
        "\n",
        "    def display_student_details(self):\n",
        "        if not self.grades:\n",
        "            return f\"Student ID: {self.student_id}\\nName: {self.name}\\nNo grades available.\"\n",
        "\n",
        "        grades_info = \", \".join(map(str, self.grades))\n",
        "        return f\"Student ID: {self.student_id}\\nName: {self.name}\\nGrades: {grades_info}\"\n",
        "\n",
        "\n"
      ],
      "metadata": {
        "id": "IkaWQ7AY2cpm"
      },
      "execution_count": null,
      "outputs": []
    },
    {
      "cell_type": "code",
      "source": [
        "\n",
        "student1 = Student(student_id=\"S001\", name=\"John Doe\", grades=[85, 90, 78, 92])\n",
        "student2 = Student(student_id=\"S002\", name=\"Jane Smith\", grades=[75, 88, 94, 87])\n",
        "print(student1.calculate_average_grade())\n",
        "print(student1.display_student_details())\n",
        "print(student2.calculate_average_grade())\n",
        "print(student2.display_student_details())\n"
      ],
      "metadata": {
        "colab": {
          "base_uri": "https://localhost:8080/"
        },
        "id": "g6SSByVF0ktj",
        "outputId": "951d000a-c258-46a3-f215-9eb8fd5be343"
      },
      "execution_count": null,
      "outputs": [
        {
          "output_type": "stream",
          "name": "stdout",
          "text": [
            "Average grade: 86.25\n",
            "Student ID: S001\n",
            "Name: John Doe\n",
            "Grades: 85, 90, 78, 92\n",
            "Average grade: 86.00\n",
            "Student ID: S002\n",
            "Name: Jane Smith\n",
            "Grades: 75, 88, 94, 87\n"
          ]
        }
      ]
    },
    {
      "cell_type": "markdown",
      "source": [
        "Problem 8: Email Management Create a class representing an email with attributes like sender, recipient, and subject. Implement methods to send an email and display email details."
      ],
      "metadata": {
        "id": "wYj7dySfzlMK"
      }
    },
    {
      "cell_type": "code",
      "source": [
        "class Email:\n",
        "    def __init__(self, sender, recipient, subject, body=\"\"):\n",
        "        self.sender = sender\n",
        "        self.recipient = recipient\n",
        "        self.subject = subject\n",
        "        self.body = body\n",
        "\n",
        "    def send_email(self):\n",
        "        return f\"Email sent from {self.sender} to {self.recipient} with subject '{self.subject}'.\"\n",
        "\n",
        "    def display_email_details(self):\n",
        "        if not self.body:\n",
        "            return f\"Sender: {self.sender}\\nRecipient: {self.recipient}\\nSubject: {self.subject}\\nNo body content.\"\n",
        "        else:\n",
        "            return f\"Sender: {self.sender}\\nRecipient: {self.recipient}\\nSubject: {self.subject}\\nBody: {self.body}\"\n"
      ],
      "metadata": {
        "id": "QdB3XRASzTfP"
      },
      "execution_count": null,
      "outputs": []
    },
    {
      "cell_type": "code",
      "source": [
        "email1 = Email(sender=\"john@example.com\", recipient=\"jane@example.com\", subject=\"Meeting Tomorrow\", body=\"Hi Jane, let's meet at 2 PM.\")\n",
        "email2 = Email(sender=\"admin@example.com\", recipient=\"support@example.com\", subject=\"System Update\", body=\"Dear users, we will be performing a system update tonight.\")\n",
        "print(email1.send_email())\n",
        "print(email1.display_email_details())\n",
        "print(email2.send_email())\n",
        "print(email2.display_email_details())"
      ],
      "metadata": {
        "colab": {
          "base_uri": "https://localhost:8080/"
        },
        "id": "BGNqDRUqzi4N",
        "outputId": "67737dcb-6360-48a4-f8d9-530713723855"
      },
      "execution_count": null,
      "outputs": [
        {
          "output_type": "stream",
          "name": "stdout",
          "text": [
            "Email sent from john@example.com to jane@example.com with subject 'Meeting Tomorrow'.\n",
            "Sender: john@example.com\n",
            "Recipient: jane@example.com\n",
            "Subject: Meeting Tomorrow\n",
            "Body: Hi Jane, let's meet at 2 PM.\n",
            "Email sent from admin@example.com to support@example.com with subject 'System Update'.\n",
            "Sender: admin@example.com\n",
            "Recipient: support@example.com\n",
            "Subject: System Update\n",
            "Body: Dear users, we will be performing a system update tonight.\n"
          ]
        }
      ]
    },
    {
      "cell_type": "markdown",
      "source": [
        "Problem 9: Social Media Profile Create a class representing a social media profile with attributes like username and posts. Implement methods to add posts, display posts, and search for posts by keyword."
      ],
      "metadata": {
        "id": "EVmkLH-n3Udn"
      }
    },
    {
      "cell_type": "code",
      "source": [
        "class SocialMediaProfile:\n",
        "    def __init__(self, username):\n",
        "        self.username = username\n",
        "        self.posts = []\n",
        "\n",
        "    def add_post(self, post_content):\n",
        "        self.posts.append(post_content)\n",
        "        return f\"New post added by {self.username}.\"\n",
        "\n",
        "    def display_posts(self):\n",
        "        if not self.posts:\n",
        "            return f\"{self.username}'s profile has no posts.\"\n",
        "\n",
        "        posts_info = \"\\n\".join([f\"{index + 1}. {post}\" for index, post in enumerate(self.posts)])\n",
        "        return f\"{self.username}'s Posts:\\n{posts_info}\"\n",
        "\n",
        "    def search_posts_by_keyword(self, keyword):\n",
        "        matching_posts = [post for post in self.posts if keyword.lower() in post.lower()]\n",
        "\n",
        "        if not matching_posts:\n",
        "            return f\"No posts found containing the keyword '{keyword}'.\"\n",
        "\n",
        "        matching_posts_info = \"\\n\".join([f\"{index + 1}. {post}\" for index, post in enumerate(matching_posts)])\n",
        "        return f\"Posts containing the keyword '{keyword}':\\n{matching_posts_info}\"\n",
        "\n"
      ],
      "metadata": {
        "id": "kWcroy9q3P3U"
      },
      "execution_count": null,
      "outputs": []
    },
    {
      "cell_type": "code",
      "source": [
        "profile = SocialMediaProfile(username=\"user123\")\n",
        "profile.add_post(\"Excited for the weekend!\")\n",
        "profile.add_post(\"Just had a great meal with friends.\")\n",
        "profile.add_post(\"Exploring new places. #AdventureTime\")\n",
        "print(profile.display_posts())\n",
        "print(profile.search_posts_by_keyword(\"great\"))\n",
        "print(profile.search_posts_by_keyword(\"travel\"))\n"
      ],
      "metadata": {
        "colab": {
          "base_uri": "https://localhost:8080/"
        },
        "id": "TqrEQER-3nKq",
        "outputId": "50a7c99c-dd4d-4ff6-e44f-90f076c37ba9"
      },
      "execution_count": null,
      "outputs": [
        {
          "output_type": "stream",
          "name": "stdout",
          "text": [
            "user123's Posts:\n",
            "1. Excited for the weekend!\n",
            "2. Just had a great meal with friends.\n",
            "3. Exploring new places. #AdventureTime\n",
            "Posts containing the keyword 'great':\n",
            "1. Just had a great meal with friends.\n",
            "No posts found containing the keyword 'travel'.\n"
          ]
        }
      ]
    },
    {
      "cell_type": "markdown",
      "source": [
        "Problem 10: ToDo List Create a class representing a ToDo list with attributes like tasks and due dates. Implement methods to add tasks, mark tasks as completed, and display pending tasks."
      ],
      "metadata": {
        "id": "LyWUKrRl3X_H"
      }
    },
    {
      "cell_type": "code",
      "source": [
        "class ToDoList:\n",
        "    def __init__(self):\n",
        "        self.tasks = []\n",
        "\n",
        "    def add_task(self, task, due_date):\n",
        "        self.tasks.append({\"task\": task, \"due_date\": due_date, \"completed\": False})\n",
        "        return f\"New task added: {task}, Due Date: {due_date}\"\n",
        "\n",
        "    def mark_task_as_completed(self, task_index):\n",
        "        if 0 <= task_index < len(self.tasks):\n",
        "            self.tasks[task_index][\"completed\"] = True\n",
        "            return f\"Task marked as completed: {self.tasks[task_index]['task']}\"\n",
        "        else:\n",
        "            return \"Invalid task index.\"\n",
        "\n",
        "    def display_pending_tasks(self):\n",
        "        pending_tasks = [task for task in self.tasks if not task[\"completed\"]]\n",
        "\n",
        "        if not pending_tasks:\n",
        "            return \"No pending tasks in the ToDo list.\"\n",
        "\n",
        "        pending_tasks_info = \"\\n\".join([f\"Task: {task['task']}, Due Date: {task['due_date']}\" for task in pending_tasks])\n",
        "        return f\"Pending Tasks:\\n{pending_tasks_info}\"\n",
        "\n",
        "\n"
      ],
      "metadata": {
        "id": "YJRpZs4l4ENY"
      },
      "execution_count": null,
      "outputs": []
    },
    {
      "cell_type": "code",
      "source": [
        "todo_list = ToDoList()\n",
        "todo_list.add_task(\"Complete project\", \"2024-03-15\")\n",
        "todo_list.add_task(\"Read a book\", \"2024-03-20\")\n",
        "todo_list.add_task(\"Exercise\", \"2024-03-18\")\n",
        "print(todo_list.display_pending_tasks())\n",
        "todo_list.mark_task_as_completed(1)\n",
        "print(todo_list.display_pending_tasks())"
      ],
      "metadata": {
        "id": "RwtZYmnM4QMu"
      },
      "execution_count": null,
      "outputs": []
    }
  ]
}